{
  "nbformat": 4,
  "nbformat_minor": 0,
  "metadata": {
    "colab": {
      "name": "Final Model",
      "provenance": [],
      "collapsed_sections": []
    },
    "kernelspec": {
      "name": "python3",
      "display_name": "Python 3"
    },
    "language_info": {
      "name": "python"
    }
  },
  "cells": [
    {
      "cell_type": "code",
      "metadata": {
        "id": "tPw4sYY8flOe",
        "colab": {
          "base_uri": "https://localhost:8080/"
        },
        "outputId": "953f6a06-d496-4d19-bd54-57d38ca231f3"
      },
      "source": [
        "import pandas as pd\n",
        "import numpy as np\n",
        "import sklearn\n",
        "from sklearn.model_selection import train_test_split, GroupKFold, KFold\n",
        "from sklearn.ensemble import RandomForestClassifier\n",
        "from sklearn.preprocessing import MinMaxScaler\n",
        "import statsmodels.api as sm\n",
        "from sklearn.pipeline import make_pipeline\n",
        "from sklearn.preprocessing import StandardScaler\n",
        "from sklearn.svm import SVC"
      ],
      "execution_count": 2,
      "outputs": [
        {
          "output_type": "stream",
          "text": [
            "/usr/local/lib/python3.7/dist-packages/statsmodels/tools/_testing.py:19: FutureWarning: pandas.util.testing is deprecated. Use the functions in the public API at pandas.testing instead.\n",
            "  import pandas.util.testing as tm\n"
          ],
          "name": "stderr"
        }
      ]
    },
    {
      "cell_type": "code",
      "metadata": {
        "colab": {
          "base_uri": "https://localhost:8080/",
          "height": 309
        },
        "id": "kiiepvQMfslx",
        "outputId": "93d98a5a-ea75-47dd-ff45-aad52f3fe1c0"
      },
      "source": [
        "df = pd.read_csv('/content/nba_games_all.csv')\n",
        "df.head()"
      ],
      "execution_count": 3,
      "outputs": [
        {
          "output_type": "execute_result",
          "data": {
            "text/html": [
              "<div>\n",
              "<style scoped>\n",
              "    .dataframe tbody tr th:only-of-type {\n",
              "        vertical-align: middle;\n",
              "    }\n",
              "\n",
              "    .dataframe tbody tr th {\n",
              "        vertical-align: top;\n",
              "    }\n",
              "\n",
              "    .dataframe thead th {\n",
              "        text-align: right;\n",
              "    }\n",
              "</style>\n",
              "<table border=\"1\" class=\"dataframe\">\n",
              "  <thead>\n",
              "    <tr style=\"text-align: right;\">\n",
              "      <th></th>\n",
              "      <th>game_id</th>\n",
              "      <th>game_date</th>\n",
              "      <th>matchup</th>\n",
              "      <th>team_id</th>\n",
              "      <th>is_home</th>\n",
              "      <th>wl</th>\n",
              "      <th>w</th>\n",
              "      <th>l</th>\n",
              "      <th>w_pct</th>\n",
              "      <th>min</th>\n",
              "      <th>fgm</th>\n",
              "      <th>fga</th>\n",
              "      <th>fg_pct</th>\n",
              "      <th>fg3m</th>\n",
              "      <th>fg3a</th>\n",
              "      <th>fg3_pct</th>\n",
              "      <th>ftm</th>\n",
              "      <th>fta</th>\n",
              "      <th>ft_pct</th>\n",
              "      <th>oreb</th>\n",
              "      <th>dreb</th>\n",
              "      <th>reb</th>\n",
              "      <th>ast</th>\n",
              "      <th>stl</th>\n",
              "      <th>blk</th>\n",
              "      <th>tov</th>\n",
              "      <th>pf</th>\n",
              "      <th>pts</th>\n",
              "      <th>a_team_id</th>\n",
              "      <th>season_year</th>\n",
              "      <th>season_type</th>\n",
              "      <th>season</th>\n",
              "    </tr>\n",
              "  </thead>\n",
              "  <tbody>\n",
              "    <tr>\n",
              "      <th>0</th>\n",
              "      <td>20800741</td>\n",
              "      <td>2009-02-06</td>\n",
              "      <td>SAC vs. UTA</td>\n",
              "      <td>1610612762</td>\n",
              "      <td>f</td>\n",
              "      <td>W</td>\n",
              "      <td>29.0</td>\n",
              "      <td>22.0</td>\n",
              "      <td>0.569</td>\n",
              "      <td>240</td>\n",
              "      <td>39.0</td>\n",
              "      <td>74.0</td>\n",
              "      <td>0.527</td>\n",
              "      <td>4.0</td>\n",
              "      <td>13.0</td>\n",
              "      <td>0.308</td>\n",
              "      <td>29.0</td>\n",
              "      <td>37.0</td>\n",
              "      <td>1.0</td>\n",
              "      <td>8.0</td>\n",
              "      <td>36.0</td>\n",
              "      <td>44</td>\n",
              "      <td>19.0</td>\n",
              "      <td>5.0</td>\n",
              "      <td>4.0</td>\n",
              "      <td>18.0</td>\n",
              "      <td>26.0</td>\n",
              "      <td>111</td>\n",
              "      <td>1610612758</td>\n",
              "      <td>2008</td>\n",
              "      <td>Regular Season</td>\n",
              "      <td>2008-09</td>\n",
              "    </tr>\n",
              "    <tr>\n",
              "      <th>1</th>\n",
              "      <td>20800701</td>\n",
              "      <td>2009-01-31</td>\n",
              "      <td>POR vs. UTA</td>\n",
              "      <td>1610612762</td>\n",
              "      <td>f</td>\n",
              "      <td>L</td>\n",
              "      <td>26.0</td>\n",
              "      <td>22.0</td>\n",
              "      <td>0.542</td>\n",
              "      <td>240</td>\n",
              "      <td>37.0</td>\n",
              "      <td>68.0</td>\n",
              "      <td>0.544</td>\n",
              "      <td>5.0</td>\n",
              "      <td>20.0</td>\n",
              "      <td>0.250</td>\n",
              "      <td>29.0</td>\n",
              "      <td>37.0</td>\n",
              "      <td>1.0</td>\n",
              "      <td>7.0</td>\n",
              "      <td>20.0</td>\n",
              "      <td>27</td>\n",
              "      <td>17.0</td>\n",
              "      <td>6.0</td>\n",
              "      <td>0.0</td>\n",
              "      <td>15.0</td>\n",
              "      <td>22.0</td>\n",
              "      <td>108</td>\n",
              "      <td>1610612757</td>\n",
              "      <td>2008</td>\n",
              "      <td>Regular Season</td>\n",
              "      <td>2008-09</td>\n",
              "    </tr>\n",
              "    <tr>\n",
              "      <th>2</th>\n",
              "      <td>20800584</td>\n",
              "      <td>2009-01-16</td>\n",
              "      <td>MEM vs. UTA</td>\n",
              "      <td>1610612762</td>\n",
              "      <td>f</td>\n",
              "      <td>W</td>\n",
              "      <td>24.0</td>\n",
              "      <td>16.0</td>\n",
              "      <td>0.600</td>\n",
              "      <td>240</td>\n",
              "      <td>37.0</td>\n",
              "      <td>71.0</td>\n",
              "      <td>0.521</td>\n",
              "      <td>7.0</td>\n",
              "      <td>19.0</td>\n",
              "      <td>0.368</td>\n",
              "      <td>20.0</td>\n",
              "      <td>27.0</td>\n",
              "      <td>1.0</td>\n",
              "      <td>7.0</td>\n",
              "      <td>26.0</td>\n",
              "      <td>33</td>\n",
              "      <td>23.0</td>\n",
              "      <td>9.0</td>\n",
              "      <td>3.0</td>\n",
              "      <td>15.0</td>\n",
              "      <td>22.0</td>\n",
              "      <td>101</td>\n",
              "      <td>1610612763</td>\n",
              "      <td>2008</td>\n",
              "      <td>Regular Season</td>\n",
              "      <td>2008-09</td>\n",
              "    </tr>\n",
              "    <tr>\n",
              "      <th>3</th>\n",
              "      <td>20800558</td>\n",
              "      <td>2009-01-12</td>\n",
              "      <td>IND @ UTA</td>\n",
              "      <td>1610612762</td>\n",
              "      <td>t</td>\n",
              "      <td>W</td>\n",
              "      <td>23.0</td>\n",
              "      <td>15.0</td>\n",
              "      <td>0.605</td>\n",
              "      <td>240</td>\n",
              "      <td>39.0</td>\n",
              "      <td>85.0</td>\n",
              "      <td>0.459</td>\n",
              "      <td>8.0</td>\n",
              "      <td>18.0</td>\n",
              "      <td>0.444</td>\n",
              "      <td>34.0</td>\n",
              "      <td>37.0</td>\n",
              "      <td>1.0</td>\n",
              "      <td>9.0</td>\n",
              "      <td>31.0</td>\n",
              "      <td>40</td>\n",
              "      <td>24.0</td>\n",
              "      <td>10.0</td>\n",
              "      <td>6.0</td>\n",
              "      <td>8.0</td>\n",
              "      <td>20.0</td>\n",
              "      <td>120</td>\n",
              "      <td>1610612754</td>\n",
              "      <td>2008</td>\n",
              "      <td>Regular Season</td>\n",
              "      <td>2008-09</td>\n",
              "    </tr>\n",
              "    <tr>\n",
              "      <th>4</th>\n",
              "      <td>20800440</td>\n",
              "      <td>2008-12-27</td>\n",
              "      <td>HOU vs. UTA</td>\n",
              "      <td>1610612762</td>\n",
              "      <td>f</td>\n",
              "      <td>L</td>\n",
              "      <td>18.0</td>\n",
              "      <td>14.0</td>\n",
              "      <td>0.563</td>\n",
              "      <td>290</td>\n",
              "      <td>49.0</td>\n",
              "      <td>100.0</td>\n",
              "      <td>0.490</td>\n",
              "      <td>5.0</td>\n",
              "      <td>13.0</td>\n",
              "      <td>0.385</td>\n",
              "      <td>12.0</td>\n",
              "      <td>18.0</td>\n",
              "      <td>1.0</td>\n",
              "      <td>11.0</td>\n",
              "      <td>29.0</td>\n",
              "      <td>40</td>\n",
              "      <td>35.0</td>\n",
              "      <td>13.0</td>\n",
              "      <td>7.0</td>\n",
              "      <td>9.0</td>\n",
              "      <td>27.0</td>\n",
              "      <td>115</td>\n",
              "      <td>1610612745</td>\n",
              "      <td>2008</td>\n",
              "      <td>Regular Season</td>\n",
              "      <td>2008-09</td>\n",
              "    </tr>\n",
              "  </tbody>\n",
              "</table>\n",
              "</div>"
            ],
            "text/plain": [
              "    game_id   game_date      matchup  ...  season_year     season_type   season\n",
              "0  20800741  2009-02-06  SAC vs. UTA  ...         2008  Regular Season  2008-09\n",
              "1  20800701  2009-01-31  POR vs. UTA  ...         2008  Regular Season  2008-09\n",
              "2  20800584  2009-01-16  MEM vs. UTA  ...         2008  Regular Season  2008-09\n",
              "3  20800558  2009-01-12    IND @ UTA  ...         2008  Regular Season  2008-09\n",
              "4  20800440  2008-12-27  HOU vs. UTA  ...         2008  Regular Season  2008-09\n",
              "\n",
              "[5 rows x 32 columns]"
            ]
          },
          "metadata": {
            "tags": []
          },
          "execution_count": 3
        }
      ]
    },
    {
      "cell_type": "code",
      "metadata": {
        "colab": {
          "base_uri": "https://localhost:8080/",
          "height": 309
        },
        "id": "_kTW9xnxW-sO",
        "outputId": "3b0d2154-7c90-4025-8e96-1b2701383e26"
      },
      "source": [
        "copied = df.copy(deep=True)\n",
        "copied.head()"
      ],
      "execution_count": 5,
      "outputs": [
        {
          "output_type": "execute_result",
          "data": {
            "text/html": [
              "<div>\n",
              "<style scoped>\n",
              "    .dataframe tbody tr th:only-of-type {\n",
              "        vertical-align: middle;\n",
              "    }\n",
              "\n",
              "    .dataframe tbody tr th {\n",
              "        vertical-align: top;\n",
              "    }\n",
              "\n",
              "    .dataframe thead th {\n",
              "        text-align: right;\n",
              "    }\n",
              "</style>\n",
              "<table border=\"1\" class=\"dataframe\">\n",
              "  <thead>\n",
              "    <tr style=\"text-align: right;\">\n",
              "      <th></th>\n",
              "      <th>game_id</th>\n",
              "      <th>game_date</th>\n",
              "      <th>matchup</th>\n",
              "      <th>team_id</th>\n",
              "      <th>is_home</th>\n",
              "      <th>wl</th>\n",
              "      <th>w</th>\n",
              "      <th>l</th>\n",
              "      <th>w_pct</th>\n",
              "      <th>min</th>\n",
              "      <th>fgm</th>\n",
              "      <th>fga</th>\n",
              "      <th>fg_pct</th>\n",
              "      <th>fg3m</th>\n",
              "      <th>fg3a</th>\n",
              "      <th>fg3_pct</th>\n",
              "      <th>ftm</th>\n",
              "      <th>fta</th>\n",
              "      <th>ft_pct</th>\n",
              "      <th>oreb</th>\n",
              "      <th>dreb</th>\n",
              "      <th>reb</th>\n",
              "      <th>ast</th>\n",
              "      <th>stl</th>\n",
              "      <th>blk</th>\n",
              "      <th>tov</th>\n",
              "      <th>pf</th>\n",
              "      <th>pts</th>\n",
              "      <th>a_team_id</th>\n",
              "      <th>season_year</th>\n",
              "      <th>season_type</th>\n",
              "      <th>season</th>\n",
              "    </tr>\n",
              "  </thead>\n",
              "  <tbody>\n",
              "    <tr>\n",
              "      <th>0</th>\n",
              "      <td>20800741</td>\n",
              "      <td>2009-02-06</td>\n",
              "      <td>SAC vs. UTA</td>\n",
              "      <td>1610612762</td>\n",
              "      <td>f</td>\n",
              "      <td>W</td>\n",
              "      <td>29.0</td>\n",
              "      <td>22.0</td>\n",
              "      <td>0.569</td>\n",
              "      <td>240</td>\n",
              "      <td>39.0</td>\n",
              "      <td>74.0</td>\n",
              "      <td>0.527</td>\n",
              "      <td>4.0</td>\n",
              "      <td>13.0</td>\n",
              "      <td>0.308</td>\n",
              "      <td>29.0</td>\n",
              "      <td>37.0</td>\n",
              "      <td>1.0</td>\n",
              "      <td>8.0</td>\n",
              "      <td>36.0</td>\n",
              "      <td>44</td>\n",
              "      <td>19.0</td>\n",
              "      <td>5.0</td>\n",
              "      <td>4.0</td>\n",
              "      <td>18.0</td>\n",
              "      <td>26.0</td>\n",
              "      <td>111</td>\n",
              "      <td>1610612758</td>\n",
              "      <td>2008</td>\n",
              "      <td>Regular Season</td>\n",
              "      <td>2008-09</td>\n",
              "    </tr>\n",
              "    <tr>\n",
              "      <th>1</th>\n",
              "      <td>20800701</td>\n",
              "      <td>2009-01-31</td>\n",
              "      <td>POR vs. UTA</td>\n",
              "      <td>1610612762</td>\n",
              "      <td>f</td>\n",
              "      <td>L</td>\n",
              "      <td>26.0</td>\n",
              "      <td>22.0</td>\n",
              "      <td>0.542</td>\n",
              "      <td>240</td>\n",
              "      <td>37.0</td>\n",
              "      <td>68.0</td>\n",
              "      <td>0.544</td>\n",
              "      <td>5.0</td>\n",
              "      <td>20.0</td>\n",
              "      <td>0.250</td>\n",
              "      <td>29.0</td>\n",
              "      <td>37.0</td>\n",
              "      <td>1.0</td>\n",
              "      <td>7.0</td>\n",
              "      <td>20.0</td>\n",
              "      <td>27</td>\n",
              "      <td>17.0</td>\n",
              "      <td>6.0</td>\n",
              "      <td>0.0</td>\n",
              "      <td>15.0</td>\n",
              "      <td>22.0</td>\n",
              "      <td>108</td>\n",
              "      <td>1610612757</td>\n",
              "      <td>2008</td>\n",
              "      <td>Regular Season</td>\n",
              "      <td>2008-09</td>\n",
              "    </tr>\n",
              "    <tr>\n",
              "      <th>2</th>\n",
              "      <td>20800584</td>\n",
              "      <td>2009-01-16</td>\n",
              "      <td>MEM vs. UTA</td>\n",
              "      <td>1610612762</td>\n",
              "      <td>f</td>\n",
              "      <td>W</td>\n",
              "      <td>24.0</td>\n",
              "      <td>16.0</td>\n",
              "      <td>0.600</td>\n",
              "      <td>240</td>\n",
              "      <td>37.0</td>\n",
              "      <td>71.0</td>\n",
              "      <td>0.521</td>\n",
              "      <td>7.0</td>\n",
              "      <td>19.0</td>\n",
              "      <td>0.368</td>\n",
              "      <td>20.0</td>\n",
              "      <td>27.0</td>\n",
              "      <td>1.0</td>\n",
              "      <td>7.0</td>\n",
              "      <td>26.0</td>\n",
              "      <td>33</td>\n",
              "      <td>23.0</td>\n",
              "      <td>9.0</td>\n",
              "      <td>3.0</td>\n",
              "      <td>15.0</td>\n",
              "      <td>22.0</td>\n",
              "      <td>101</td>\n",
              "      <td>1610612763</td>\n",
              "      <td>2008</td>\n",
              "      <td>Regular Season</td>\n",
              "      <td>2008-09</td>\n",
              "    </tr>\n",
              "    <tr>\n",
              "      <th>3</th>\n",
              "      <td>20800558</td>\n",
              "      <td>2009-01-12</td>\n",
              "      <td>IND @ UTA</td>\n",
              "      <td>1610612762</td>\n",
              "      <td>t</td>\n",
              "      <td>W</td>\n",
              "      <td>23.0</td>\n",
              "      <td>15.0</td>\n",
              "      <td>0.605</td>\n",
              "      <td>240</td>\n",
              "      <td>39.0</td>\n",
              "      <td>85.0</td>\n",
              "      <td>0.459</td>\n",
              "      <td>8.0</td>\n",
              "      <td>18.0</td>\n",
              "      <td>0.444</td>\n",
              "      <td>34.0</td>\n",
              "      <td>37.0</td>\n",
              "      <td>1.0</td>\n",
              "      <td>9.0</td>\n",
              "      <td>31.0</td>\n",
              "      <td>40</td>\n",
              "      <td>24.0</td>\n",
              "      <td>10.0</td>\n",
              "      <td>6.0</td>\n",
              "      <td>8.0</td>\n",
              "      <td>20.0</td>\n",
              "      <td>120</td>\n",
              "      <td>1610612754</td>\n",
              "      <td>2008</td>\n",
              "      <td>Regular Season</td>\n",
              "      <td>2008-09</td>\n",
              "    </tr>\n",
              "    <tr>\n",
              "      <th>4</th>\n",
              "      <td>20800440</td>\n",
              "      <td>2008-12-27</td>\n",
              "      <td>HOU vs. UTA</td>\n",
              "      <td>1610612762</td>\n",
              "      <td>f</td>\n",
              "      <td>L</td>\n",
              "      <td>18.0</td>\n",
              "      <td>14.0</td>\n",
              "      <td>0.563</td>\n",
              "      <td>290</td>\n",
              "      <td>49.0</td>\n",
              "      <td>100.0</td>\n",
              "      <td>0.490</td>\n",
              "      <td>5.0</td>\n",
              "      <td>13.0</td>\n",
              "      <td>0.385</td>\n",
              "      <td>12.0</td>\n",
              "      <td>18.0</td>\n",
              "      <td>1.0</td>\n",
              "      <td>11.0</td>\n",
              "      <td>29.0</td>\n",
              "      <td>40</td>\n",
              "      <td>35.0</td>\n",
              "      <td>13.0</td>\n",
              "      <td>7.0</td>\n",
              "      <td>9.0</td>\n",
              "      <td>27.0</td>\n",
              "      <td>115</td>\n",
              "      <td>1610612745</td>\n",
              "      <td>2008</td>\n",
              "      <td>Regular Season</td>\n",
              "      <td>2008-09</td>\n",
              "    </tr>\n",
              "  </tbody>\n",
              "</table>\n",
              "</div>"
            ],
            "text/plain": [
              "    game_id   game_date      matchup  ...  season_year     season_type   season\n",
              "0  20800741  2009-02-06  SAC vs. UTA  ...         2008  Regular Season  2008-09\n",
              "1  20800701  2009-01-31  POR vs. UTA  ...         2008  Regular Season  2008-09\n",
              "2  20800584  2009-01-16  MEM vs. UTA  ...         2008  Regular Season  2008-09\n",
              "3  20800558  2009-01-12    IND @ UTA  ...         2008  Regular Season  2008-09\n",
              "4  20800440  2008-12-27  HOU vs. UTA  ...         2008  Regular Season  2008-09\n",
              "\n",
              "[5 rows x 32 columns]"
            ]
          },
          "metadata": {
            "tags": []
          },
          "execution_count": 5
        }
      ]
    },
    {
      "cell_type": "code",
      "metadata": {
        "id": "ZtKrbmh-itVn"
      },
      "source": [
        "def preprocess(df):\n",
        "  df = df.dropna()\n",
        "  # Normalize Data: x - xmin / xmax - xmin\n",
        "  arr = ['team_id', 'w_pct', 'min', 'fgm', 'fga', 'fg_pct', 'fg3m', 'fg3a',\n",
        "         'fg3_pct', 'ftm', 'fta', 'ft_pct', 'a_team_id']\n",
        "  for field in arr:\n",
        "    scaler = MinMaxScaler() \n",
        "    df[field] = scaler.fit_transform(df[[field]])\n",
        "  df = df.replace('W', 1)\n",
        "  df = df.replace('L', 0)\n",
        "  df = df.replace('t', 1)\n",
        "  df = df.replace('f', 0)\n",
        "  df['wl'] = df['wl'].astype('int') \n",
        "  df['is_home'] = df['is_home'].astype('int') \n",
        "  return df"
      ],
      "execution_count": 4,
      "outputs": []
    },
    {
      "cell_type": "code",
      "metadata": {
        "id": "3Vzxfxl-kCfx"
      },
      "source": [
        "def ind(df):\n",
        "  d = {}\n",
        "  i = 0\n",
        "  for index, row in df.iterrows():\n",
        "    key = row['MATCHUP']\n",
        "    val = 0\n",
        "    if key in d:\n",
        "      val = d[key]\n",
        "    else:\n",
        "      d[key] = i\n",
        "      val = i\n",
        "      i += 1\n",
        "    df.loc[index, 'MATCHUP'] = val\n",
        "  return df"
      ],
      "execution_count": 8,
      "outputs": []
    },
    {
      "cell_type": "code",
      "metadata": {
        "id": "hg4Yge15ivzt",
        "colab": {
          "base_uri": "https://localhost:8080/"
        },
        "outputId": "a6865104-662d-464e-edee-328956199f61"
      },
      "source": [
        "# df = ind(df)\n",
        "df = preprocess(df)"
      ],
      "execution_count": 6,
      "outputs": [
        {
          "output_type": "stream",
          "text": [
            "/usr/local/lib/python3.7/dist-packages/ipykernel_launcher.py:8: SettingWithCopyWarning: \n",
            "A value is trying to be set on a copy of a slice from a DataFrame.\n",
            "Try using .loc[row_indexer,col_indexer] = value instead\n",
            "\n",
            "See the caveats in the documentation: https://pandas.pydata.org/pandas-docs/stable/user_guide/indexing.html#returning-a-view-versus-a-copy\n",
            "  \n",
            "/usr/local/lib/python3.7/dist-packages/ipykernel_launcher.py:8: SettingWithCopyWarning: \n",
            "A value is trying to be set on a copy of a slice from a DataFrame.\n",
            "Try using .loc[row_indexer,col_indexer] = value instead\n",
            "\n",
            "See the caveats in the documentation: https://pandas.pydata.org/pandas-docs/stable/user_guide/indexing.html#returning-a-view-versus-a-copy\n",
            "  \n",
            "/usr/local/lib/python3.7/dist-packages/ipykernel_launcher.py:8: SettingWithCopyWarning: \n",
            "A value is trying to be set on a copy of a slice from a DataFrame.\n",
            "Try using .loc[row_indexer,col_indexer] = value instead\n",
            "\n",
            "See the caveats in the documentation: https://pandas.pydata.org/pandas-docs/stable/user_guide/indexing.html#returning-a-view-versus-a-copy\n",
            "  \n",
            "/usr/local/lib/python3.7/dist-packages/ipykernel_launcher.py:8: SettingWithCopyWarning: \n",
            "A value is trying to be set on a copy of a slice from a DataFrame.\n",
            "Try using .loc[row_indexer,col_indexer] = value instead\n",
            "\n",
            "See the caveats in the documentation: https://pandas.pydata.org/pandas-docs/stable/user_guide/indexing.html#returning-a-view-versus-a-copy\n",
            "  \n",
            "/usr/local/lib/python3.7/dist-packages/ipykernel_launcher.py:8: SettingWithCopyWarning: \n",
            "A value is trying to be set on a copy of a slice from a DataFrame.\n",
            "Try using .loc[row_indexer,col_indexer] = value instead\n",
            "\n",
            "See the caveats in the documentation: https://pandas.pydata.org/pandas-docs/stable/user_guide/indexing.html#returning-a-view-versus-a-copy\n",
            "  \n",
            "/usr/local/lib/python3.7/dist-packages/ipykernel_launcher.py:8: SettingWithCopyWarning: \n",
            "A value is trying to be set on a copy of a slice from a DataFrame.\n",
            "Try using .loc[row_indexer,col_indexer] = value instead\n",
            "\n",
            "See the caveats in the documentation: https://pandas.pydata.org/pandas-docs/stable/user_guide/indexing.html#returning-a-view-versus-a-copy\n",
            "  \n",
            "/usr/local/lib/python3.7/dist-packages/ipykernel_launcher.py:8: SettingWithCopyWarning: \n",
            "A value is trying to be set on a copy of a slice from a DataFrame.\n",
            "Try using .loc[row_indexer,col_indexer] = value instead\n",
            "\n",
            "See the caveats in the documentation: https://pandas.pydata.org/pandas-docs/stable/user_guide/indexing.html#returning-a-view-versus-a-copy\n",
            "  \n",
            "/usr/local/lib/python3.7/dist-packages/ipykernel_launcher.py:8: SettingWithCopyWarning: \n",
            "A value is trying to be set on a copy of a slice from a DataFrame.\n",
            "Try using .loc[row_indexer,col_indexer] = value instead\n",
            "\n",
            "See the caveats in the documentation: https://pandas.pydata.org/pandas-docs/stable/user_guide/indexing.html#returning-a-view-versus-a-copy\n",
            "  \n",
            "/usr/local/lib/python3.7/dist-packages/ipykernel_launcher.py:8: SettingWithCopyWarning: \n",
            "A value is trying to be set on a copy of a slice from a DataFrame.\n",
            "Try using .loc[row_indexer,col_indexer] = value instead\n",
            "\n",
            "See the caveats in the documentation: https://pandas.pydata.org/pandas-docs/stable/user_guide/indexing.html#returning-a-view-versus-a-copy\n",
            "  \n",
            "/usr/local/lib/python3.7/dist-packages/ipykernel_launcher.py:8: SettingWithCopyWarning: \n",
            "A value is trying to be set on a copy of a slice from a DataFrame.\n",
            "Try using .loc[row_indexer,col_indexer] = value instead\n",
            "\n",
            "See the caveats in the documentation: https://pandas.pydata.org/pandas-docs/stable/user_guide/indexing.html#returning-a-view-versus-a-copy\n",
            "  \n",
            "/usr/local/lib/python3.7/dist-packages/ipykernel_launcher.py:8: SettingWithCopyWarning: \n",
            "A value is trying to be set on a copy of a slice from a DataFrame.\n",
            "Try using .loc[row_indexer,col_indexer] = value instead\n",
            "\n",
            "See the caveats in the documentation: https://pandas.pydata.org/pandas-docs/stable/user_guide/indexing.html#returning-a-view-versus-a-copy\n",
            "  \n",
            "/usr/local/lib/python3.7/dist-packages/ipykernel_launcher.py:8: SettingWithCopyWarning: \n",
            "A value is trying to be set on a copy of a slice from a DataFrame.\n",
            "Try using .loc[row_indexer,col_indexer] = value instead\n",
            "\n",
            "See the caveats in the documentation: https://pandas.pydata.org/pandas-docs/stable/user_guide/indexing.html#returning-a-view-versus-a-copy\n",
            "  \n",
            "/usr/local/lib/python3.7/dist-packages/ipykernel_launcher.py:8: SettingWithCopyWarning: \n",
            "A value is trying to be set on a copy of a slice from a DataFrame.\n",
            "Try using .loc[row_indexer,col_indexer] = value instead\n",
            "\n",
            "See the caveats in the documentation: https://pandas.pydata.org/pandas-docs/stable/user_guide/indexing.html#returning-a-view-versus-a-copy\n",
            "  \n"
          ],
          "name": "stderr"
        }
      ]
    },
    {
      "cell_type": "code",
      "metadata": {
        "colab": {
          "base_uri": "https://localhost:8080/",
          "height": 309
        },
        "id": "Qh3K7rtUiy0X",
        "outputId": "c1b6ef5f-8e5e-43c7-b66a-5a4509120158"
      },
      "source": [
        "df.head()"
      ],
      "execution_count": 7,
      "outputs": [
        {
          "output_type": "execute_result",
          "data": {
            "text/html": [
              "<div>\n",
              "<style scoped>\n",
              "    .dataframe tbody tr th:only-of-type {\n",
              "        vertical-align: middle;\n",
              "    }\n",
              "\n",
              "    .dataframe tbody tr th {\n",
              "        vertical-align: top;\n",
              "    }\n",
              "\n",
              "    .dataframe thead th {\n",
              "        text-align: right;\n",
              "    }\n",
              "</style>\n",
              "<table border=\"1\" class=\"dataframe\">\n",
              "  <thead>\n",
              "    <tr style=\"text-align: right;\">\n",
              "      <th></th>\n",
              "      <th>game_id</th>\n",
              "      <th>game_date</th>\n",
              "      <th>matchup</th>\n",
              "      <th>team_id</th>\n",
              "      <th>is_home</th>\n",
              "      <th>wl</th>\n",
              "      <th>w</th>\n",
              "      <th>l</th>\n",
              "      <th>w_pct</th>\n",
              "      <th>min</th>\n",
              "      <th>fgm</th>\n",
              "      <th>fga</th>\n",
              "      <th>fg_pct</th>\n",
              "      <th>fg3m</th>\n",
              "      <th>fg3a</th>\n",
              "      <th>fg3_pct</th>\n",
              "      <th>ftm</th>\n",
              "      <th>fta</th>\n",
              "      <th>ft_pct</th>\n",
              "      <th>oreb</th>\n",
              "      <th>dreb</th>\n",
              "      <th>reb</th>\n",
              "      <th>ast</th>\n",
              "      <th>stl</th>\n",
              "      <th>blk</th>\n",
              "      <th>tov</th>\n",
              "      <th>pf</th>\n",
              "      <th>pts</th>\n",
              "      <th>a_team_id</th>\n",
              "      <th>season_year</th>\n",
              "      <th>season_type</th>\n",
              "      <th>season</th>\n",
              "    </tr>\n",
              "  </thead>\n",
              "  <tbody>\n",
              "    <tr>\n",
              "      <th>0</th>\n",
              "      <td>20800741</td>\n",
              "      <td>2009-02-06</td>\n",
              "      <td>SAC vs. UTA</td>\n",
              "      <td>0.006102</td>\n",
              "      <td>0</td>\n",
              "      <td>1</td>\n",
              "      <td>29.0</td>\n",
              "      <td>22.0</td>\n",
              "      <td>0.569</td>\n",
              "      <td>0.193548</td>\n",
              "      <td>0.338235</td>\n",
              "      <td>0.234694</td>\n",
              "      <td>0.643182</td>\n",
              "      <td>0.129032</td>\n",
              "      <td>0.151899</td>\n",
              "      <td>0.308</td>\n",
              "      <td>0.549020</td>\n",
              "      <td>0.571429</td>\n",
              "      <td>1.0</td>\n",
              "      <td>8.0</td>\n",
              "      <td>36.0</td>\n",
              "      <td>44</td>\n",
              "      <td>19.0</td>\n",
              "      <td>5.0</td>\n",
              "      <td>4.0</td>\n",
              "      <td>18.0</td>\n",
              "      <td>26.0</td>\n",
              "      <td>111</td>\n",
              "      <td>0.005126</td>\n",
              "      <td>2008</td>\n",
              "      <td>Regular Season</td>\n",
              "      <td>2008-09</td>\n",
              "    </tr>\n",
              "    <tr>\n",
              "      <th>1</th>\n",
              "      <td>20800701</td>\n",
              "      <td>2009-01-31</td>\n",
              "      <td>POR vs. UTA</td>\n",
              "      <td>0.006102</td>\n",
              "      <td>0</td>\n",
              "      <td>0</td>\n",
              "      <td>26.0</td>\n",
              "      <td>22.0</td>\n",
              "      <td>0.542</td>\n",
              "      <td>0.193548</td>\n",
              "      <td>0.308824</td>\n",
              "      <td>0.173469</td>\n",
              "      <td>0.681818</td>\n",
              "      <td>0.161290</td>\n",
              "      <td>0.240506</td>\n",
              "      <td>0.250</td>\n",
              "      <td>0.549020</td>\n",
              "      <td>0.571429</td>\n",
              "      <td>1.0</td>\n",
              "      <td>7.0</td>\n",
              "      <td>20.0</td>\n",
              "      <td>27</td>\n",
              "      <td>17.0</td>\n",
              "      <td>6.0</td>\n",
              "      <td>0.0</td>\n",
              "      <td>15.0</td>\n",
              "      <td>22.0</td>\n",
              "      <td>108</td>\n",
              "      <td>0.004882</td>\n",
              "      <td>2008</td>\n",
              "      <td>Regular Season</td>\n",
              "      <td>2008-09</td>\n",
              "    </tr>\n",
              "    <tr>\n",
              "      <th>2</th>\n",
              "      <td>20800584</td>\n",
              "      <td>2009-01-16</td>\n",
              "      <td>MEM vs. UTA</td>\n",
              "      <td>0.006102</td>\n",
              "      <td>0</td>\n",
              "      <td>1</td>\n",
              "      <td>24.0</td>\n",
              "      <td>16.0</td>\n",
              "      <td>0.600</td>\n",
              "      <td>0.193548</td>\n",
              "      <td>0.308824</td>\n",
              "      <td>0.204082</td>\n",
              "      <td>0.629545</td>\n",
              "      <td>0.225806</td>\n",
              "      <td>0.227848</td>\n",
              "      <td>0.368</td>\n",
              "      <td>0.372549</td>\n",
              "      <td>0.412698</td>\n",
              "      <td>1.0</td>\n",
              "      <td>7.0</td>\n",
              "      <td>26.0</td>\n",
              "      <td>33</td>\n",
              "      <td>23.0</td>\n",
              "      <td>9.0</td>\n",
              "      <td>3.0</td>\n",
              "      <td>15.0</td>\n",
              "      <td>22.0</td>\n",
              "      <td>101</td>\n",
              "      <td>0.006346</td>\n",
              "      <td>2008</td>\n",
              "      <td>Regular Season</td>\n",
              "      <td>2008-09</td>\n",
              "    </tr>\n",
              "    <tr>\n",
              "      <th>3</th>\n",
              "      <td>20800558</td>\n",
              "      <td>2009-01-12</td>\n",
              "      <td>IND @ UTA</td>\n",
              "      <td>0.006102</td>\n",
              "      <td>1</td>\n",
              "      <td>1</td>\n",
              "      <td>23.0</td>\n",
              "      <td>15.0</td>\n",
              "      <td>0.605</td>\n",
              "      <td>0.193548</td>\n",
              "      <td>0.338235</td>\n",
              "      <td>0.346939</td>\n",
              "      <td>0.488636</td>\n",
              "      <td>0.258065</td>\n",
              "      <td>0.215190</td>\n",
              "      <td>0.444</td>\n",
              "      <td>0.647059</td>\n",
              "      <td>0.571429</td>\n",
              "      <td>1.0</td>\n",
              "      <td>9.0</td>\n",
              "      <td>31.0</td>\n",
              "      <td>40</td>\n",
              "      <td>24.0</td>\n",
              "      <td>10.0</td>\n",
              "      <td>6.0</td>\n",
              "      <td>8.0</td>\n",
              "      <td>20.0</td>\n",
              "      <td>120</td>\n",
              "      <td>0.004149</td>\n",
              "      <td>2008</td>\n",
              "      <td>Regular Season</td>\n",
              "      <td>2008-09</td>\n",
              "    </tr>\n",
              "    <tr>\n",
              "      <th>4</th>\n",
              "      <td>20800440</td>\n",
              "      <td>2008-12-27</td>\n",
              "      <td>HOU vs. UTA</td>\n",
              "      <td>0.006102</td>\n",
              "      <td>0</td>\n",
              "      <td>0</td>\n",
              "      <td>18.0</td>\n",
              "      <td>14.0</td>\n",
              "      <td>0.563</td>\n",
              "      <td>0.596774</td>\n",
              "      <td>0.485294</td>\n",
              "      <td>0.500000</td>\n",
              "      <td>0.559091</td>\n",
              "      <td>0.161290</td>\n",
              "      <td>0.151899</td>\n",
              "      <td>0.385</td>\n",
              "      <td>0.215686</td>\n",
              "      <td>0.269841</td>\n",
              "      <td>1.0</td>\n",
              "      <td>11.0</td>\n",
              "      <td>29.0</td>\n",
              "      <td>40</td>\n",
              "      <td>35.0</td>\n",
              "      <td>13.0</td>\n",
              "      <td>7.0</td>\n",
              "      <td>9.0</td>\n",
              "      <td>27.0</td>\n",
              "      <td>115</td>\n",
              "      <td>0.001953</td>\n",
              "      <td>2008</td>\n",
              "      <td>Regular Season</td>\n",
              "      <td>2008-09</td>\n",
              "    </tr>\n",
              "  </tbody>\n",
              "</table>\n",
              "</div>"
            ],
            "text/plain": [
              "    game_id   game_date      matchup  ...  season_year     season_type   season\n",
              "0  20800741  2009-02-06  SAC vs. UTA  ...         2008  Regular Season  2008-09\n",
              "1  20800701  2009-01-31  POR vs. UTA  ...         2008  Regular Season  2008-09\n",
              "2  20800584  2009-01-16  MEM vs. UTA  ...         2008  Regular Season  2008-09\n",
              "3  20800558  2009-01-12    IND @ UTA  ...         2008  Regular Season  2008-09\n",
              "4  20800440  2008-12-27  HOU vs. UTA  ...         2008  Regular Season  2008-09\n",
              "\n",
              "[5 rows x 32 columns]"
            ]
          },
          "metadata": {
            "tags": []
          },
          "execution_count": 7
        }
      ]
    },
    {
      "cell_type": "code",
      "metadata": {
        "id": "XQ7Yxoidi8mF"
      },
      "source": [
        "X = df[['team_id', 'w_pct', 'a_team_id', 'is_home']]\n",
        "y = df['wl']\n",
        "X_train, X_test, y_train, y_test = train_test_split(X, y, test_size=0.35, random_state=100)"
      ],
      "execution_count": 8,
      "outputs": []
    },
    {
      "cell_type": "markdown",
      "metadata": {
        "id": "pFiTrhIqSOzx"
      },
      "source": [
        "Random Forest"
      ]
    },
    {
      "cell_type": "code",
      "metadata": {
        "colab": {
          "base_uri": "https://localhost:8080/"
        },
        "id": "RLFIkADBjXRx",
        "outputId": "f58b74b6-014f-4cdf-c2dd-0ef404405d54"
      },
      "source": [
        "rforestclf = RandomForestClassifier()\n",
        "rforestclf.fit(X_train, y_train)"
      ],
      "execution_count": null,
      "outputs": [
        {
          "output_type": "execute_result",
          "data": {
            "text/plain": [
              "RandomForestClassifier(bootstrap=True, ccp_alpha=0.0, class_weight=None,\n",
              "                       criterion='gini', max_depth=None, max_features='auto',\n",
              "                       max_leaf_nodes=None, max_samples=None,\n",
              "                       min_impurity_decrease=0.0, min_impurity_split=None,\n",
              "                       min_samples_leaf=1, min_samples_split=2,\n",
              "                       min_weight_fraction_leaf=0.0, n_estimators=100,\n",
              "                       n_jobs=None, oob_score=False, random_state=None,\n",
              "                       verbose=0, warm_start=False)"
            ]
          },
          "metadata": {
            "tags": []
          },
          "execution_count": 10
        }
      ]
    },
    {
      "cell_type": "code",
      "metadata": {
        "id": "9WoIZKxcnw9o"
      },
      "source": [
        "results = rforestclf.predict(X_test)"
      ],
      "execution_count": null,
      "outputs": []
    },
    {
      "cell_type": "markdown",
      "metadata": {
        "id": "ygtG9YipYD0f"
      },
      "source": [
        "SVM"
      ]
    },
    {
      "cell_type": "code",
      "metadata": {
        "colab": {
          "base_uri": "https://localhost:8080/"
        },
        "id": "sBcASlJIYDht",
        "outputId": "3147807d-8668-476f-90d3-fc9ae53c8392"
      },
      "source": [
        "clf = make_pipeline(StandardScaler(), SVC(gamma=0.0001, class_weight='balanced'))\n",
        "clf.fit(X_train, y_train)"
      ],
      "execution_count": 6,
      "outputs": [
        {
          "output_type": "execute_result",
          "data": {
            "text/plain": [
              "Pipeline(memory=None,\n",
              "         steps=[('standardscaler',\n",
              "                 StandardScaler(copy=True, with_mean=True, with_std=True)),\n",
              "                ('svc',\n",
              "                 SVC(C=1.0, break_ties=False, cache_size=200,\n",
              "                     class_weight='balanced', coef0=0.0,\n",
              "                     decision_function_shape='ovr', degree=3, gamma=0.0001,\n",
              "                     kernel='rbf', max_iter=-1, probability=False,\n",
              "                     random_state=None, shrinking=True, tol=0.001,\n",
              "                     verbose=False))],\n",
              "         verbose=False)"
            ]
          },
          "metadata": {
            "tags": []
          },
          "execution_count": 6
        }
      ]
    },
    {
      "cell_type": "code",
      "metadata": {
        "id": "xDzRxyOCYMWl"
      },
      "source": [
        "results = clf.predict(X_test)"
      ],
      "execution_count": 7,
      "outputs": []
    },
    {
      "cell_type": "markdown",
      "metadata": {
        "id": "jV5_w0wNeB3g"
      },
      "source": [
        "SVM Optimization"
      ]
    },
    {
      "cell_type": "code",
      "metadata": {
        "colab": {
          "base_uri": "https://localhost:8080/"
        },
        "id": "7kxe7OLXeDs_",
        "outputId": "8dc54ea2-5bc8-4095-823a-bfc6f0b987b1"
      },
      "source": [
        "top = 0\n",
        "max_tol = 0\n",
        "gamma = 'auto'\n",
        "max_kernel = 'linear'\n",
        "kernels = ['linear', 'poly', 'rbf', 'sigmoid', 'precomputed']\n",
        "\n",
        "for index in range(0, 4):\n",
        "  clf = make_pipeline(StandardScaler(), SVC(gamma='auto', kernel=kernels[index]))\n",
        "  clf.fit(X_train, y_train)\n",
        "  results = clf.predict(X_test)\n",
        "  total = 0\n",
        "  correct = 0\n",
        "  for i in range(len(results)):\n",
        "      total += 1\n",
        "      if results[i] == y_test.ravel()[i]:\n",
        "          correct += 1\n",
        "  per = correct / total * 100\n",
        "  print(per)\n",
        "  if per > top:\n",
        "    max_kernel = kernels[index]\n",
        "    top = per"
      ],
      "execution_count": 17,
      "outputs": [
        {
          "output_type": "stream",
          "text": [
            "66.7196608373079\n",
            "65.6673480202892\n",
            "66.5606783253842\n",
            "59.56544780074192\n"
          ],
          "name": "stdout"
        }
      ]
    },
    {
      "cell_type": "code",
      "metadata": {
        "colab": {
          "base_uri": "https://localhost:8080/"
        },
        "id": "ugzFVLkpXbV2",
        "outputId": "e33f98ec-78e2-4a21-9f56-556913b9de8d"
      },
      "source": [
        "max_kernel, top"
      ],
      "execution_count": 18,
      "outputs": [
        {
          "output_type": "execute_result",
          "data": {
            "text/plain": [
              "('linear', 66.7196608373079)"
            ]
          },
          "metadata": {
            "tags": []
          },
          "execution_count": 18
        }
      ]
    },
    {
      "cell_type": "code",
      "metadata": {
        "colab": {
          "base_uri": "https://localhost:8080/"
        },
        "id": "WtpiaqLPXf2w",
        "outputId": "b197ece5-e79c-4e03-9ecf-10b2ed369041"
      },
      "source": [
        "top = 0\n",
        "max_tol = 0\n",
        "gamma = 'auto'\n",
        "\n",
        "for t in range(10, 100, 10):\n",
        "  tol = t / 1000\n",
        "  clf = make_pipeline(StandardScaler(), SVC(gamma='scale', tol=tol, kernel='linear'))\n",
        "  clf.fit(X_train, y_train)\n",
        "  results = clf.predict(X_test)\n",
        "  total = 0\n",
        "  correct = 0\n",
        "  for i in range(len(results)):\n",
        "      total += 1\n",
        "      if results[i] == y_test.ravel()[i]:\n",
        "          correct += 1\n",
        "  per = correct / total * 100\n",
        "  print(per)\n",
        "  if per > top:\n",
        "    max_tol = tol\n",
        "    top = per"
      ],
      "execution_count": 21,
      "outputs": [
        {
          "output_type": "stream",
          "text": [
            "66.77265500794913\n",
            "66.7196608373079\n",
            "66.7196608373079\n",
            "66.73480202891967\n",
            "66.68180785827845\n",
            "66.76508441214324\n",
            "66.66666666666666\n",
            "66.66666666666666\n",
            "66.73480202891967\n"
          ],
          "name": "stdout"
        }
      ]
    },
    {
      "cell_type": "code",
      "metadata": {
        "id": "oLs_VxY0iaQb",
        "colab": {
          "base_uri": "https://localhost:8080/"
        },
        "outputId": "e5283b99-9da5-4b5e-dd35-9877e9ef1acb"
      },
      "source": [
        "top, max_tol"
      ],
      "execution_count": 22,
      "outputs": [
        {
          "output_type": "execute_result",
          "data": {
            "text/plain": [
              "(66.77265500794913, 0.01)"
            ]
          },
          "metadata": {
            "tags": []
          },
          "execution_count": 22
        }
      ]
    },
    {
      "cell_type": "code",
      "metadata": {
        "colab": {
          "base_uri": "https://localhost:8080/"
        },
        "id": "pNvpXgMsaMKW",
        "outputId": "154cef20-d7b8-40e5-a42a-0d08e9e3b9e8"
      },
      "source": [
        "top = 0\n",
        "max_tol = 0\n",
        "gamma = 'auto'\n",
        "max_kernel = 'linear'\n",
        "kernels = ['linear', 'poly', 'rbf', 'sigmoid']\n",
        "\n",
        "for t in range(10, 100, 10):\n",
        "  for index in range(4):\n",
        "    tol = t / 1000\n",
        "    clf = make_pipeline(StandardScaler(), SVC(gamma='auto', tol=tol, kernel=kernels[index]))\n",
        "    clf.fit(X_train, y_train)\n",
        "    results = clf.predict(X_test)\n",
        "    total = 0\n",
        "    correct = 0\n",
        "    for i in range(len(results)):\n",
        "        total += 1\n",
        "        if results[i] == y_test.ravel()[i]:\n",
        "            correct += 1\n",
        "    per = correct / total * 100\n",
        "    print(per)\n",
        "    if per > top:\n",
        "      max_tol = tol\n",
        "      max_kernel = kernels[index]\n",
        "      top = per"
      ],
      "execution_count": 23,
      "outputs": [
        {
          "output_type": "stream",
          "text": [
            "66.77265500794913\n",
            "65.67491861609508\n",
            "66.57581951699598\n",
            "59.56544780074192\n",
            "66.7196608373079\n",
            "65.6673480202892\n",
            "66.60610190021956\n",
            "59.56544780074192\n",
            "66.7196608373079\n",
            "65.72791278673633\n",
            "66.58339011280188\n",
            "59.56544780074192\n",
            "66.73480202891967\n",
            "65.75062457415399\n",
            "66.61367249602543\n",
            "59.55787720493603\n",
            "66.68180785827845\n",
            "65.75062457415399\n",
            "66.60610190021956\n",
            "59.55787720493603\n",
            "66.76508441214324\n",
            "65.75062457415399\n",
            "66.61367249602543\n",
            "59.55787720493603\n",
            "66.66666666666666\n",
            "65.75062457415399\n",
            "66.6288136876372\n",
            "59.55787720493603\n",
            "66.66666666666666\n",
            "65.75062457415399\n",
            "66.643954879249\n",
            "59.55787720493603\n",
            "66.73480202891967\n",
            "65.75062457415399\n",
            "66.61367249602543\n",
            "59.56544780074192\n"
          ],
          "name": "stdout"
        }
      ]
    },
    {
      "cell_type": "code",
      "metadata": {
        "colab": {
          "base_uri": "https://localhost:8080/"
        },
        "id": "ycnQgXoRdcsc",
        "outputId": "481d5470-f479-4c5f-b336-9821d3d106f7"
      },
      "source": [
        "top, max_kernel, max_tol"
      ],
      "execution_count": 24,
      "outputs": [
        {
          "output_type": "execute_result",
          "data": {
            "text/plain": [
              "(66.77265500794913, 'linear', 0.01)"
            ]
          },
          "metadata": {
            "tags": []
          },
          "execution_count": 24
        }
      ]
    },
    {
      "cell_type": "code",
      "metadata": {
        "colab": {
          "base_uri": "https://localhost:8080/"
        },
        "id": "ctLrNIDLS1TA",
        "outputId": "cd4b5419-d038-4ae1-ac64-36b26b5b141e"
      },
      "source": [
        "top = 0\n",
        "max_tol = 0\n",
        "gamma = 'auto'\n",
        "max_kernel = 'linear'\n",
        "kernels = ['linear', 'poly', 'rbf', 'sigmoid']\n",
        "\n",
        "for t in range(10, 100, 10):\n",
        "  for index in range(4):\n",
        "    tol = t / 1000\n",
        "    clf = make_pipeline(StandardScaler(), \n",
        "                        SVC(gamma='auto', \n",
        "                            tol=tol, \n",
        "                            kernel=kernels[index],\n",
        "                            class_weight='balanced'))\n",
        "    clf.fit(X_train, y_train)\n",
        "    results = clf.predict(X_test)\n",
        "    total = 0\n",
        "    correct = 0\n",
        "    for i in range(len(results)):\n",
        "        total += 1\n",
        "        if results[i] == y_test.ravel()[i]:\n",
        "            correct += 1\n",
        "    per = correct / total * 100\n",
        "    print(per)\n",
        "    if per > top:\n",
        "      max_tol = tol\n",
        "      max_kernel = kernels[index]\n",
        "      top = per"
      ],
      "execution_count": 32,
      "outputs": [
        {
          "output_type": "stream",
          "text": [
            "66.7196608373079\n",
            "65.6673480202892\n",
            "66.57581951699598\n",
            "59.550306609130146\n",
            "66.74994322053146\n",
            "65.65977742448331\n",
            "66.54553713377243\n",
            "59.550306609130146\n",
            "66.76508441214324\n",
            "65.6673480202892\n",
            "66.5606783253842\n",
            "59.550306609130146\n",
            "66.71209024150201\n",
            "65.6673480202892\n",
            "66.58339011280188\n",
            "59.54273601332425\n",
            "66.73480202891967\n",
            "65.68248921190097\n",
            "66.59853130441365\n",
            "59.54273601332425\n",
            "66.73480202891967\n",
            "65.68248921190097\n",
            "66.62124309183133\n",
            "59.54273601332425\n",
            "66.7196608373079\n",
            "65.68248921190097\n",
            "66.6363842834431\n",
            "59.54273601332425\n",
            "66.72723143311379\n",
            "65.68248921190097\n",
            "66.643954879249\n",
            "59.54273601332425\n",
            "66.74237262472556\n",
            "65.68248921190097\n",
            "66.6288136876372\n",
            "59.54273601332425\n"
          ],
          "name": "stdout"
        }
      ]
    },
    {
      "cell_type": "code",
      "metadata": {
        "colab": {
          "base_uri": "https://localhost:8080/"
        },
        "id": "RFx4dsWiS2hQ",
        "outputId": "cd8f6cc6-4de1-4346-b02d-69461cb1ab5b"
      },
      "source": [
        "top, max_kernel, max_tol"
      ],
      "execution_count": 33,
      "outputs": [
        {
          "output_type": "execute_result",
          "data": {
            "text/plain": [
              "(66.76508441214324, 'linear', 0.03)"
            ]
          },
          "metadata": {
            "tags": []
          },
          "execution_count": 33
        }
      ]
    },
    {
      "cell_type": "markdown",
      "metadata": {
        "id": "YaQIQwVhmJjn"
      },
      "source": [
        "Gamma Comparison"
      ]
    },
    {
      "cell_type": "code",
      "metadata": {
        "colab": {
          "base_uri": "https://localhost:8080/"
        },
        "id": "NZBhbti4lKG7",
        "outputId": "30db0f02-63ca-49d4-abbc-239f286e03e2"
      },
      "source": [
        "clf = make_pipeline(StandardScaler(), \n",
        "                        SVC(gamma='auto', \n",
        "                            tol=0.03, \n",
        "                            kernel='linear'))\n",
        "clf.fit(X_train, y_train)\n",
        "results = clf.predict(X_test)\n",
        "total = 0\n",
        "correct = 0\n",
        "for i in range(len(results)):\n",
        "    total += 1\n",
        "    if results[i] == y_test.ravel()[i]:\n",
        "        correct += 1\n",
        "correct / total * 100"
      ],
      "execution_count": 15,
      "outputs": [
        {
          "output_type": "execute_result",
          "data": {
            "text/plain": [
              "66.7196608373079"
            ]
          },
          "metadata": {
            "tags": []
          },
          "execution_count": 15
        }
      ]
    },
    {
      "cell_type": "markdown",
      "metadata": {
        "id": "7UVYt16qmbQm"
      },
      "source": [
        "Testing"
      ]
    },
    {
      "cell_type": "code",
      "metadata": {
        "id": "e_FUaMahmhM2"
      },
      "source": [
        "# Using the Optimized Model\n",
        "clf = make_pipeline(StandardScaler(), \n",
        "                        SVC(gamma='auto', \n",
        "                            tol=0.03, \n",
        "                            kernel='linear'))\n",
        "clf.fit(X_train, y_train)\n",
        "results = clf.predict(X_test)"
      ],
      "execution_count": 18,
      "outputs": []
    },
    {
      "cell_type": "markdown",
      "metadata": {
        "id": "XykxhG-Am-0R"
      },
      "source": [
        "Baseline Testing (Error Rate by Team)"
      ]
    },
    {
      "cell_type": "code",
      "metadata": {
        "id": "zBpYpEw_YOaJ"
      },
      "source": [
        "data = []\n",
        "for result in results:\n",
        "  threshold = 0.5\n",
        "  if result < threshold:\n",
        "    data.append(0)\n",
        "  else:\n",
        "    data.append(1)\n",
        "results = data"
      ],
      "execution_count": 19,
      "outputs": []
    },
    {
      "cell_type": "code",
      "metadata": {
        "id": "hacN_eN5UPor"
      },
      "source": [
        "teams = []\n",
        "for index, row in X_test.iterrows():\n",
        "  teams.append(index)"
      ],
      "execution_count": 34,
      "outputs": []
    },
    {
      "cell_type": "code",
      "metadata": {
        "id": "8CLDvizrXQDC"
      },
      "source": [
        "for i in range(len(teams)):\n",
        "  index = teams[i]\n",
        "  teams[i] = copied.loc[index, 'team_id']"
      ],
      "execution_count": 35,
      "outputs": []
    },
    {
      "cell_type": "code",
      "metadata": {
        "id": "fE7To4YOWPdN"
      },
      "source": [
        "team_wins = {}\n",
        "team_losses = {}\n",
        "for i in range(len(teams)):\n",
        "  team = teams[i]\n",
        "  if y_test.ravel()[i] == 1:\n",
        "    if team not in team_wins:\n",
        "      team_wins[team] = 1\n",
        "    else:\n",
        "      team_wins[team] += 1\n",
        "  else:\n",
        "    if team not in team_losses:\n",
        "      team_losses[team] = 1\n",
        "    else:\n",
        "      team_losses[team] += 1"
      ],
      "execution_count": 36,
      "outputs": []
    },
    {
      "cell_type": "code",
      "metadata": {
        "id": "TApGXSTEYHjg"
      },
      "source": [
        "# Generate the Actual Win Percentage by Team\n",
        "team_ratio = {}\n",
        "for team in team_wins:\n",
        "  team_ratio[team] = team_wins[team] / (team_wins[team] + team_losses[team])"
      ],
      "execution_count": 37,
      "outputs": []
    },
    {
      "cell_type": "code",
      "metadata": {
        "colab": {
          "base_uri": "https://localhost:8080/"
        },
        "id": "eHzFynzwarrs",
        "outputId": "2c82ee52-5bbb-4019-e454-b2bd2f65a508"
      },
      "source": [
        "team_ratio"
      ],
      "execution_count": 26,
      "outputs": [
        {
          "output_type": "execute_result",
          "data": {
            "text/plain": [
              "{0.0: 0.42755344418052255,\n",
              " 0.0002440810203552246: 0.5398230088495575,\n",
              " 0.00048816209891811013: 0.5847826086956521,\n",
              " 0.0007322431192733347: 0.448512585812357,\n",
              " 0.0009763241396285594: 0.5247058823529411,\n",
              " 0.001220405159983784: 0.5746102449888641,\n",
              " 0.0014644862385466695: 0.58,\n",
              " 0.001708567258901894: 0.5199063231850117,\n",
              " 0.0019526482792571187: 0.597457627118644,\n",
              " 0.0021967292996123433: 0.46405228758169936,\n",
              " 0.002440810378175229: 0.5414847161572053,\n",
              " 0.0026848913985304534: 0.5750528541226215,\n",
              " 0.002928972418885678: 0.42630385487528344,\n",
              " 0.0031730534392409027: 0.3613053613053613,\n",
              " 0.003417134517803788: 0.4637002341920375,\n",
              " 0.003661215538159013: 0.37857142857142856,\n",
              " 0.0039052965585142374: 0.4617169373549884,\n",
              " 0.004149377578869462: 0.5302013422818792,\n",
              " 0.0043934586574323475: 0.41025641025641024,\n",
              " 0.004637539677787572: 0.4845605700712589,\n",
              " 0.004881620698142797: 0.4748201438848921,\n",
              " 0.005125701718498021: 0.43855421686746987,\n",
              " 0.005369782797060907: 0.689727463312369,\n",
              " 0.0056138638174161315: 0.5294117647058824,\n",
              " 0.005857944837771356: 0.4889380530973451,\n",
              " 0.006102025858126581: 0.5011286681715575,\n",
              " 0.006346106936689466: 0.47737556561085975,\n",
              " 0.006590187957044691: 0.4182242990654206,\n",
              " 0.0068342689773999155: 0.5034802784222738,\n",
              " 0.00707834999775514: 0.42892156862745096,\n",
              " 0.9997559189796448: 0.5,\n",
              " 1.0: 0.2}"
            ]
          },
          "metadata": {
            "tags": []
          },
          "execution_count": 26
        }
      ]
    },
    {
      "cell_type": "code",
      "metadata": {
        "id": "hPDK8qbJYz8y"
      },
      "source": [
        "pred_wins = {}\n",
        "pred_losses = {}\n",
        "for i in range(len(teams)):\n",
        "  team = teams[i]\n",
        "  if results[i] == 1:\n",
        "    if team not in pred_wins:\n",
        "      pred_wins[team] = 1\n",
        "    else:\n",
        "      pred_wins[team] += 1\n",
        "  else:\n",
        "    if team not in pred_losses:\n",
        "      pred_losses[team] = 1\n",
        "    else:\n",
        "      pred_losses[team] += 1"
      ],
      "execution_count": 27,
      "outputs": []
    },
    {
      "cell_type": "code",
      "metadata": {
        "id": "SVdp-LYGY_Es"
      },
      "source": [
        "# Generate the Predicted Win Ratio By Team\n",
        "pred_ratio = {}\n",
        "for team in team_wins:\n",
        "   pred_ratio[team] = pred_wins[team] / (pred_wins[team] + pred_losses[team])"
      ],
      "execution_count": 38,
      "outputs": []
    },
    {
      "cell_type": "code",
      "metadata": {
        "colab": {
          "base_uri": "https://localhost:8080/"
        },
        "id": "-LLYTgE7ZGjm",
        "outputId": "fadabf89-d4ab-427e-9cde-2cf5e4740427"
      },
      "source": [
        "pred_ratio"
      ],
      "execution_count": 30,
      "outputs": [
        {
          "output_type": "execute_result",
          "data": {
            "text/plain": [
              "{0.0: 0.46318289786223277,\n",
              " 0.0002440810203552246: 0.6261061946902655,\n",
              " 0.00048816209891811013: 0.6391304347826087,\n",
              " 0.0007322431192733347: 0.47368421052631576,\n",
              " 0.0009763241396285594: 0.5105882352941177,\n",
              " 0.001220405159983784: 0.6948775055679287,\n",
              " 0.0014644862385466695: 0.58,\n",
              " 0.001708567258901894: 0.5644028103044496,\n",
              " 0.0019526482792571187: 0.6758474576271186,\n",
              " 0.0021967292996123433: 0.5729847494553377,\n",
              " 0.002440810378175229: 0.5829694323144105,\n",
              " 0.0026848913985304534: 0.638477801268499,\n",
              " 0.002928972418885678: 0.3854875283446712,\n",
              " 0.0031730534392409027: 0.29836829836829837,\n",
              " 0.003417134517803788: 0.32786885245901637,\n",
              " 0.003661215538159013: 0.3547619047619048,\n",
              " 0.0039052965585142374: 0.494199535962877,\n",
              " 0.004149377578869462: 0.5771812080536913,\n",
              " 0.0043934586574323475: 0.29603729603729606,\n",
              " 0.004637539677787572: 0.5273159144893111,\n",
              " 0.004881620698142797: 0.5227817745803357,\n",
              " 0.005125701718498021: 0.327710843373494,\n",
              " 0.005369782797060907: 0.8867924528301887,\n",
              " 0.0056138638174161315: 0.5860566448801743,\n",
              " 0.005857944837771356: 0.4446902654867257,\n",
              " 0.006102025858126581: 0.5440180586907449,\n",
              " 0.006346106936689466: 0.4502262443438914,\n",
              " 0.006590187957044691: 0.35046728971962615,\n",
              " 0.0068342689773999155: 0.46867749419953597,\n",
              " 0.00707834999775514: 0.23039215686274508,\n",
              " 0.9997559189796448: 0.5,\n",
              " 1.0: 0.2}"
            ]
          },
          "metadata": {
            "tags": []
          },
          "execution_count": 30
        }
      ]
    },
    {
      "cell_type": "code",
      "metadata": {
        "id": "XteHyUTZZIjV"
      },
      "source": [
        "# Generate the Percent Error by Team of Predicted - Actual\n",
        "errors = {}\n",
        "for team in team_ratio:\n",
        "  errors[team] = abs(pred_ratio[team] - team_ratio[team]) / team_ratio[team] * 100"
      ],
      "execution_count": 39,
      "outputs": []
    },
    {
      "cell_type": "code",
      "metadata": {
        "colab": {
          "base_uri": "https://localhost:8080/"
        },
        "id": "zn6P4f_sZSI-",
        "outputId": "221e54c4-d021-4b3d-f5c2-9496880f0044"
      },
      "source": [
        "errors"
      ],
      "execution_count": 32,
      "outputs": [
        {
          "output_type": "execute_result",
          "data": {
            "text/plain": [
              "{0.0: 8.333333333333336,\n",
              " 0.0002440810203552246: 15.983606557377064,\n",
              " 0.00048816209891811013: 9.293680297397772,\n",
              " 0.0007322431192733347: 5.612244897959178,\n",
              " 0.0009763241396285594: 2.690582959641242,\n",
              " 0.001220405159983784: 20.93023255813953,\n",
              " 0.0014644862385466695: 0.0,\n",
              " 0.001708567258901894: 8.558558558558547,\n",
              " 0.0019526482792571187: 13.120567375886527,\n",
              " 0.0021967292996123433: 23.47417840375587,\n",
              " 0.002440810378175229: 7.661290322580632,\n",
              " 0.0026848913985304534: 11.029411764705891,\n",
              " 0.002928972418885678: 9.57446808510638,\n",
              " 0.0031730534392409027: 17.419354838709673,\n",
              " 0.003417134517803788: 29.292929292929298,\n",
              " 0.003661215538159013: 6.289308176100622,\n",
              " 0.0039052965585142374: 7.035175879396978,\n",
              " 0.004149377578869462: 8.860759493670894,\n",
              " 0.0043934586574323475: 27.840909090909083,\n",
              " 0.004637539677787572: 8.823529411764701,\n",
              " 0.004881620698142797: 10.101010101010097,\n",
              " 0.005125701718498021: 25.274725274725267,\n",
              " 0.005369782797060907: 28.57142857142857,\n",
              " 0.0056138638174161315: 10.699588477366252,\n",
              " 0.005857944837771356: 9.0497737556561,\n",
              " 0.006102025858126581: 8.558558558558564,\n",
              " 0.006346106936689466: 5.687203791469197,\n",
              " 0.006590187957044691: 16.201117318435763,\n",
              " 0.0068342689773999155: 6.912442396313372,\n",
              " 0.00707834999775514: 46.285714285714285,\n",
              " 0.9997559189796448: 0.0,\n",
              " 1.0: 0.0}"
            ]
          },
          "metadata": {
            "tags": []
          },
          "execution_count": 32
        }
      ]
    },
    {
      "cell_type": "code",
      "metadata": {
        "colab": {
          "base_uri": "https://localhost:8080/"
        },
        "id": "TbNLqMeBZsOx",
        "outputId": "c9510dd3-d467-4d05-982f-8c79d6f6d061"
      },
      "source": [
        "total = 0\n",
        "for error in errors:\n",
        "  total += 1\n",
        "total"
      ],
      "execution_count": 33,
      "outputs": [
        {
          "output_type": "execute_result",
          "data": {
            "text/plain": [
              "32"
            ]
          },
          "metadata": {
            "tags": []
          },
          "execution_count": 33
        }
      ]
    },
    {
      "cell_type": "code",
      "metadata": {
        "id": "gy02WMuInz_h"
      },
      "source": [
        "# Find Overall Error for Generated Results\n",
        "def accuracy(results, y_test):\n",
        "  total = 0\n",
        "  correct = 0\n",
        "  for i in range(len(results)):\n",
        "      total += 1\n",
        "      if results[i] == y_test.ravel()[i]:\n",
        "          correct += 1\n",
        "  return correct / total * 100"
      ],
      "execution_count": 40,
      "outputs": []
    },
    {
      "cell_type": "markdown",
      "metadata": {
        "id": "iO5CBelVoDG8"
      },
      "source": [
        "KFold Testing"
      ]
    },
    {
      "cell_type": "code",
      "metadata": {
        "id": "ZPALd5zqp23W"
      },
      "source": [
        "def accuracy_kfold(predictions, y_test):\n",
        "  total = 0\n",
        "  correct = 0\n",
        "  for i in range(len(predictions.ravel())):\n",
        "      pred = predictions.ravel()[i]\n",
        "      total += 1\n",
        "      if pred == y_test.to_numpy()[i]:\n",
        "          correct += 1\n",
        "  return correct / total * 100"
      ],
      "execution_count": 10,
      "outputs": []
    },
    {
      "cell_type": "code",
      "metadata": {
        "colab": {
          "base_uri": "https://localhost:8080/"
        },
        "id": "h6AahvrAoFB8",
        "outputId": "a04618c0-004f-4174-ec47-a469e7f1d397"
      },
      "source": [
        "splits = 25\n",
        "kf = KFold(n_splits=splits)\n",
        "X = df[['team_id', 'w_pct', 'a_team_id', 'is_home']]\n",
        "X = X.to_numpy()\n",
        "y = df['wl']\n",
        "y = y.to_numpy()\n",
        "kf.get_n_splits(X)\n",
        "KFold(n_splits=splits, random_state=100, shuffle=True)\n",
        "for train_index, test_index in kf.split(X):\n",
        "  X_train, X_test = X[train_index], X[test_index]\n",
        "  y_train, y_test = y[train_index], y[test_index]\n",
        "  X_train = pd.DataFrame({'team_id': X_train[:, 0], 'w_pct': X_train[:, 1], \n",
        "                          'a_team_id': X_train[:, 2], 'is_home': X_train[:, 3]\n",
        "                          })\n",
        "  X_test = pd.DataFrame({'team_id': X_test[:, 0], 'w_pct': X_test[:, 1], \n",
        "                          'a_team_id': X_test[:, 2], 'is_home': X_test[:, 3]\n",
        "                          })\n",
        "  y_train = pd.DataFrame({'wl': y_train})\n",
        "  y_test = pd.DataFrame({'wl': y_test})\n",
        "  \n",
        "  # Using the Optimized Model\n",
        "  clf = make_pipeline(StandardScaler(), \n",
        "                          SVC(gamma='auto', \n",
        "                              tol=0.03, \n",
        "                              kernel='linear'))\n",
        "  clf.fit(X_train, y_train)\n",
        "  predictions = clf.predict(X_test)\n",
        "  acc = accuracy_kfold(predictions, y_test)\n",
        "  print(acc)"
      ],
      "execution_count": 11,
      "outputs": [
        {
          "output_type": "stream",
          "text": [
            "/usr/local/lib/python3.7/dist-packages/sklearn/utils/validation.py:760: DataConversionWarning: A column-vector y was passed when a 1d array was expected. Please change the shape of y to (n_samples, ), for example using ravel().\n",
            "  y = column_or_1d(y, warn=True)\n"
          ],
          "name": "stderr"
        },
        {
          "output_type": "stream",
          "text": [
            "68.27814569536423\n"
          ],
          "name": "stdout"
        },
        {
          "output_type": "stream",
          "text": [
            "/usr/local/lib/python3.7/dist-packages/sklearn/utils/validation.py:760: DataConversionWarning: A column-vector y was passed when a 1d array was expected. Please change the shape of y to (n_samples, ), for example using ravel().\n",
            "  y = column_or_1d(y, warn=True)\n"
          ],
          "name": "stderr"
        },
        {
          "output_type": "stream",
          "text": [
            "67.28476821192054\n"
          ],
          "name": "stdout"
        },
        {
          "output_type": "stream",
          "text": [
            "/usr/local/lib/python3.7/dist-packages/sklearn/utils/validation.py:760: DataConversionWarning: A column-vector y was passed when a 1d array was expected. Please change the shape of y to (n_samples, ), for example using ravel().\n",
            "  y = column_or_1d(y, warn=True)\n"
          ],
          "name": "stderr"
        },
        {
          "output_type": "stream",
          "text": [
            "67.81456953642385\n"
          ],
          "name": "stdout"
        },
        {
          "output_type": "stream",
          "text": [
            "/usr/local/lib/python3.7/dist-packages/sklearn/utils/validation.py:760: DataConversionWarning: A column-vector y was passed when a 1d array was expected. Please change the shape of y to (n_samples, ), for example using ravel().\n",
            "  y = column_or_1d(y, warn=True)\n"
          ],
          "name": "stderr"
        },
        {
          "output_type": "stream",
          "text": [
            "66.29139072847681\n"
          ],
          "name": "stdout"
        },
        {
          "output_type": "stream",
          "text": [
            "/usr/local/lib/python3.7/dist-packages/sklearn/utils/validation.py:760: DataConversionWarning: A column-vector y was passed when a 1d array was expected. Please change the shape of y to (n_samples, ), for example using ravel().\n",
            "  y = column_or_1d(y, warn=True)\n"
          ],
          "name": "stderr"
        },
        {
          "output_type": "stream",
          "text": [
            "66.49006622516556\n"
          ],
          "name": "stdout"
        },
        {
          "output_type": "stream",
          "text": [
            "/usr/local/lib/python3.7/dist-packages/sklearn/utils/validation.py:760: DataConversionWarning: A column-vector y was passed when a 1d array was expected. Please change the shape of y to (n_samples, ), for example using ravel().\n",
            "  y = column_or_1d(y, warn=True)\n"
          ],
          "name": "stderr"
        },
        {
          "output_type": "stream",
          "text": [
            "67.28476821192054\n"
          ],
          "name": "stdout"
        },
        {
          "output_type": "stream",
          "text": [
            "/usr/local/lib/python3.7/dist-packages/sklearn/utils/validation.py:760: DataConversionWarning: A column-vector y was passed when a 1d array was expected. Please change the shape of y to (n_samples, ), for example using ravel().\n",
            "  y = column_or_1d(y, warn=True)\n"
          ],
          "name": "stderr"
        },
        {
          "output_type": "stream",
          "text": [
            "68.54304635761589\n"
          ],
          "name": "stdout"
        },
        {
          "output_type": "stream",
          "text": [
            "/usr/local/lib/python3.7/dist-packages/sklearn/utils/validation.py:760: DataConversionWarning: A column-vector y was passed when a 1d array was expected. Please change the shape of y to (n_samples, ), for example using ravel().\n",
            "  y = column_or_1d(y, warn=True)\n"
          ],
          "name": "stderr"
        },
        {
          "output_type": "stream",
          "text": [
            "65.69536423841059\n"
          ],
          "name": "stdout"
        },
        {
          "output_type": "stream",
          "text": [
            "/usr/local/lib/python3.7/dist-packages/sklearn/utils/validation.py:760: DataConversionWarning: A column-vector y was passed when a 1d array was expected. Please change the shape of y to (n_samples, ), for example using ravel().\n",
            "  y = column_or_1d(y, warn=True)\n"
          ],
          "name": "stderr"
        },
        {
          "output_type": "stream",
          "text": [
            "67.48344370860927\n"
          ],
          "name": "stdout"
        },
        {
          "output_type": "stream",
          "text": [
            "/usr/local/lib/python3.7/dist-packages/sklearn/utils/validation.py:760: DataConversionWarning: A column-vector y was passed when a 1d array was expected. Please change the shape of y to (n_samples, ), for example using ravel().\n",
            "  y = column_or_1d(y, warn=True)\n"
          ],
          "name": "stderr"
        },
        {
          "output_type": "stream",
          "text": [
            "64.76821192052981\n"
          ],
          "name": "stdout"
        },
        {
          "output_type": "stream",
          "text": [
            "/usr/local/lib/python3.7/dist-packages/sklearn/utils/validation.py:760: DataConversionWarning: A column-vector y was passed when a 1d array was expected. Please change the shape of y to (n_samples, ), for example using ravel().\n",
            "  y = column_or_1d(y, warn=True)\n"
          ],
          "name": "stderr"
        },
        {
          "output_type": "stream",
          "text": [
            "68.41059602649007\n"
          ],
          "name": "stdout"
        },
        {
          "output_type": "stream",
          "text": [
            "/usr/local/lib/python3.7/dist-packages/sklearn/utils/validation.py:760: DataConversionWarning: A column-vector y was passed when a 1d array was expected. Please change the shape of y to (n_samples, ), for example using ravel().\n",
            "  y = column_or_1d(y, warn=True)\n"
          ],
          "name": "stderr"
        },
        {
          "output_type": "stream",
          "text": [
            "69.13907284768212\n"
          ],
          "name": "stdout"
        },
        {
          "output_type": "stream",
          "text": [
            "/usr/local/lib/python3.7/dist-packages/sklearn/utils/validation.py:760: DataConversionWarning: A column-vector y was passed when a 1d array was expected. Please change the shape of y to (n_samples, ), for example using ravel().\n",
            "  y = column_or_1d(y, warn=True)\n"
          ],
          "name": "stderr"
        },
        {
          "output_type": "stream",
          "text": [
            "69.0728476821192\n"
          ],
          "name": "stdout"
        },
        {
          "output_type": "stream",
          "text": [
            "/usr/local/lib/python3.7/dist-packages/sklearn/utils/validation.py:760: DataConversionWarning: A column-vector y was passed when a 1d array was expected. Please change the shape of y to (n_samples, ), for example using ravel().\n",
            "  y = column_or_1d(y, warn=True)\n"
          ],
          "name": "stderr"
        },
        {
          "output_type": "stream",
          "text": [
            "67.9920477137177\n"
          ],
          "name": "stdout"
        },
        {
          "output_type": "stream",
          "text": [
            "/usr/local/lib/python3.7/dist-packages/sklearn/utils/validation.py:760: DataConversionWarning: A column-vector y was passed when a 1d array was expected. Please change the shape of y to (n_samples, ), for example using ravel().\n",
            "  y = column_or_1d(y, warn=True)\n"
          ],
          "name": "stderr"
        },
        {
          "output_type": "stream",
          "text": [
            "67.39562624254472\n"
          ],
          "name": "stdout"
        },
        {
          "output_type": "stream",
          "text": [
            "/usr/local/lib/python3.7/dist-packages/sklearn/utils/validation.py:760: DataConversionWarning: A column-vector y was passed when a 1d array was expected. Please change the shape of y to (n_samples, ), for example using ravel().\n",
            "  y = column_or_1d(y, warn=True)\n"
          ],
          "name": "stderr"
        },
        {
          "output_type": "stream",
          "text": [
            "67.52816434724983\n"
          ],
          "name": "stdout"
        },
        {
          "output_type": "stream",
          "text": [
            "/usr/local/lib/python3.7/dist-packages/sklearn/utils/validation.py:760: DataConversionWarning: A column-vector y was passed when a 1d array was expected. Please change the shape of y to (n_samples, ), for example using ravel().\n",
            "  y = column_or_1d(y, warn=True)\n"
          ],
          "name": "stderr"
        },
        {
          "output_type": "stream",
          "text": [
            "66.99801192842942\n"
          ],
          "name": "stdout"
        },
        {
          "output_type": "stream",
          "text": [
            "/usr/local/lib/python3.7/dist-packages/sklearn/utils/validation.py:760: DataConversionWarning: A column-vector y was passed when a 1d array was expected. Please change the shape of y to (n_samples, ), for example using ravel().\n",
            "  y = column_or_1d(y, warn=True)\n"
          ],
          "name": "stderr"
        },
        {
          "output_type": "stream",
          "text": [
            "68.45593108018555\n"
          ],
          "name": "stdout"
        },
        {
          "output_type": "stream",
          "text": [
            "/usr/local/lib/python3.7/dist-packages/sklearn/utils/validation.py:760: DataConversionWarning: A column-vector y was passed when a 1d array was expected. Please change the shape of y to (n_samples, ), for example using ravel().\n",
            "  y = column_or_1d(y, warn=True)\n"
          ],
          "name": "stderr"
        },
        {
          "output_type": "stream",
          "text": [
            "67.06428098078197\n"
          ],
          "name": "stdout"
        },
        {
          "output_type": "stream",
          "text": [
            "/usr/local/lib/python3.7/dist-packages/sklearn/utils/validation.py:760: DataConversionWarning: A column-vector y was passed when a 1d array was expected. Please change the shape of y to (n_samples, ), for example using ravel().\n",
            "  y = column_or_1d(y, warn=True)\n"
          ],
          "name": "stderr"
        },
        {
          "output_type": "stream",
          "text": [
            "68.98608349900597\n"
          ],
          "name": "stdout"
        },
        {
          "output_type": "stream",
          "text": [
            "/usr/local/lib/python3.7/dist-packages/sklearn/utils/validation.py:760: DataConversionWarning: A column-vector y was passed when a 1d array was expected. Please change the shape of y to (n_samples, ), for example using ravel().\n",
            "  y = column_or_1d(y, warn=True)\n"
          ],
          "name": "stderr"
        },
        {
          "output_type": "stream",
          "text": [
            "67.85950960901259\n"
          ],
          "name": "stdout"
        },
        {
          "output_type": "stream",
          "text": [
            "/usr/local/lib/python3.7/dist-packages/sklearn/utils/validation.py:760: DataConversionWarning: A column-vector y was passed when a 1d array was expected. Please change the shape of y to (n_samples, ), for example using ravel().\n",
            "  y = column_or_1d(y, warn=True)\n"
          ],
          "name": "stderr"
        },
        {
          "output_type": "stream",
          "text": [
            "66.00397614314116\n"
          ],
          "name": "stdout"
        },
        {
          "output_type": "stream",
          "text": [
            "/usr/local/lib/python3.7/dist-packages/sklearn/utils/validation.py:760: DataConversionWarning: A column-vector y was passed when a 1d array was expected. Please change the shape of y to (n_samples, ), for example using ravel().\n",
            "  y = column_or_1d(y, warn=True)\n"
          ],
          "name": "stderr"
        },
        {
          "output_type": "stream",
          "text": [
            "67.79324055666004\n"
          ],
          "name": "stdout"
        },
        {
          "output_type": "stream",
          "text": [
            "/usr/local/lib/python3.7/dist-packages/sklearn/utils/validation.py:760: DataConversionWarning: A column-vector y was passed when a 1d array was expected. Please change the shape of y to (n_samples, ), for example using ravel().\n",
            "  y = column_or_1d(y, warn=True)\n"
          ],
          "name": "stderr"
        },
        {
          "output_type": "stream",
          "text": [
            "66.73293571901921\n"
          ],
          "name": "stdout"
        },
        {
          "output_type": "stream",
          "text": [
            "/usr/local/lib/python3.7/dist-packages/sklearn/utils/validation.py:760: DataConversionWarning: A column-vector y was passed when a 1d array was expected. Please change the shape of y to (n_samples, ), for example using ravel().\n",
            "  y = column_or_1d(y, warn=True)\n"
          ],
          "name": "stderr"
        },
        {
          "output_type": "stream",
          "text": [
            "66.99801192842942\n"
          ],
          "name": "stdout"
        }
      ]
    }
  ]
}